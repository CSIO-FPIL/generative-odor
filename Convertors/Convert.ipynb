{
 "cells": [
  {
   "cell_type": "code",
   "execution_count": 3,
   "metadata": {},
   "outputs": [
    {
     "name": "stdout",
     "output_type": "stream",
     "text": [
      "Original dataset shape: (4783, 140)\n",
      "Cleaned dataset shape: (4753, 140)\n",
      "Number of rows removed: 30\n"
     ]
    }
   ],
   "source": [
    "import pandas as pd\n",
    "\n",
    "# Read the CSV file\n",
    "df = pd.read_csv(r'C:\\Users\\sarab\\OneDrive\\Desktop\\CSIR\\generative_model_compare\\Convertors\\curated_GS_LF_filtered.csv')\n",
    "\n",
    "# Remove rows with '.' in the nonStereoSMILES column\n",
    "df_cleaned = df[~df['nonStereoSMILES'].str.contains('\\\\.', na=False)]\n",
    "\n",
    "# Save the cleaned dataset\n",
    "output_path = r'curated_GS_LF_merged_cleaned.csv'\n",
    "df_cleaned.to_csv(output_path, index=False)\n",
    "\n",
    "# Print some information about the cleaning process\n",
    "print(f\"Original dataset shape: {df.shape}\")\n",
    "print(f\"Cleaned dataset shape: {df_cleaned.shape}\")\n",
    "print(f\"Number of rows removed: {df.shape[0] - df_cleaned.shape[0]}\")"
   ]
  },
  {
   "cell_type": "code",
   "execution_count": null,
   "metadata": {},
   "outputs": [],
   "source": []
  }
 ],
 "metadata": {
  "kernelspec": {
   "display_name": "ENV4",
   "language": "python",
   "name": "python3"
  },
  "language_info": {
   "codemirror_mode": {
    "name": "ipython",
    "version": 3
   },
   "file_extension": ".py",
   "mimetype": "text/x-python",
   "name": "python",
   "nbconvert_exporter": "python",
   "pygments_lexer": "ipython3",
   "version": "3.9.19"
  }
 },
 "nbformat": 4,
 "nbformat_minor": 2
}
